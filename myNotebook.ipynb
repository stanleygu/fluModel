{
 "metadata": {
  "signature": "sha256:136453e311b4983100b97666e236efc574c4d84a8a0b2141a83efa140dc465fa"
 },
 "nbformat": 3,
 "nbformat_minor": 0,
 "worksheets": [
  {
   "cells": [
    {
     "cell_type": "code",
     "collapsed": false,
     "input": [
      "! pip install git+https://github.com/biomodels/BIOMD0000000528.git"
     ],
     "language": "python",
     "metadata": {},
     "outputs": [
      {
       "output_type": "stream",
       "stream": "stdout",
       "text": [
        "Downloading/unpacking git+https://github.com/biomodels/BIOMD0000000528.git\r\n",
        "  Cloning https://github.com/biomodels/BIOMD0000000528.git to /tmp/pip-PCSk26-build\r\n"
       ]
      },
      {
       "output_type": "stream",
       "stream": "stdout",
       "text": [
        "  Running setup.py (path:/tmp/pip-PCSk26-build/setup.py) egg_info for package from git+https://github.com/biomodels/BIOMD0000000528.git\r\n"
       ]
      },
      {
       "output_type": "stream",
       "stream": "stdout",
       "text": [
        "    /usr/lib/python2.7/distutils/dist.py:267: UserWarning: Unknown distribution option: 'maintainer_url'\r\n",
        "      warnings.warn(msg)\r\n",
        "    \r\n"
       ]
      },
      {
       "output_type": "stream",
       "stream": "stdout",
       "text": [
        "Installing collected packages: BIOMD0000000528\r\n",
        "  Running setup.py install for BIOMD0000000528\r\n"
       ]
      },
      {
       "output_type": "stream",
       "stream": "stdout",
       "text": [
        "    /usr/lib/python2.7/distutils/dist.py:267: UserWarning: Unknown distribution option: 'maintainer_url'\r\n",
        "      warnings.warn(msg)\r\n"
       ]
      },
      {
       "output_type": "stream",
       "stream": "stdout",
       "text": [
        "    \r\n"
       ]
      },
      {
       "output_type": "stream",
       "stream": "stdout",
       "text": [
        "Successfully installed BIOMD0000000528\r\n",
        "Cleaning up...\r\n"
       ]
      }
     ],
     "prompt_number": 1
    },
    {
     "cell_type": "code",
     "collapsed": false,
     "input": [
      "import BIOMD0000000528 as m\n",
      "import tellurium as te"
     ],
     "language": "python",
     "metadata": {},
     "outputs": [],
     "prompt_number": 2
    },
    {
     "cell_type": "code",
     "collapsed": false,
     "input": [
      "r = te.loadSBMLModel(m.sbmlString)\n",
      "\n",
      "sim = r.simulate(0, 8, 100)\n",
      "\n",
      "te.plotWithLegend(r, sim)"
     ],
     "language": "python",
     "metadata": {},
     "outputs": [
      {
       "metadata": {},
       "output_type": "display_data",
       "png": "[encoded data removed]",
       "text": [
        "<matplotlib.figure.Figure at 0x4d35450>"
       ]
      },
      {
       "metadata": {},
       "output_type": "pyout",
       "prompt_number": 5,
       "text": [
        "<module 'matplotlib.pyplot' from '/usr/local/lib/python2.7/dist-packages/matplotlib/pyplot.pyc'>"
       ]
      }
     ],
     "prompt_number": 5
    },
    {
     "cell_type": "code",
     "collapsed": false,
     "input": [
      "species = ['IFNb_mRNA', 'IFNa_mRNA', 'TNFam', 'STATm', 'IRF7m']"
     ],
     "language": "python",
     "metadata": {},
     "outputs": []
    }
   ],
   "metadata": {}
  }
 ]
}